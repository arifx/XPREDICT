{
 "cells": [
  {
   "cell_type": "code",
   "execution_count": 5,
   "metadata": {},
   "outputs": [
    {
     "ename": "ModuleNotFoundError",
     "evalue": "No module named 'sklearn'",
     "output_type": "error",
     "traceback": [
      "\u001b[0;31m---------------------------------------------------------------------------\u001b[0m",
      "\u001b[0;31mModuleNotFoundError\u001b[0m                       Traceback (most recent call last)",
      "\u001b[0;32m<ipython-input-5-6bbc3027a838>\u001b[0m in \u001b[0;36m<module>\u001b[0;34m\u001b[0m\n\u001b[1;32m      1\u001b[0m \u001b[0;32mimport\u001b[0m \u001b[0mrandom\u001b[0m\u001b[0;34m\u001b[0m\u001b[0;34m\u001b[0m\u001b[0m\n\u001b[1;32m      2\u001b[0m \u001b[0;32mimport\u001b[0m \u001b[0mnumpy\u001b[0m \u001b[0;32mas\u001b[0m \u001b[0mnp\u001b[0m\u001b[0;34m\u001b[0m\u001b[0;34m\u001b[0m\u001b[0m\n\u001b[0;32m----> 3\u001b[0;31m \u001b[0;32mfrom\u001b[0m \u001b[0msklearn\u001b[0m \u001b[0;32mimport\u001b[0m \u001b[0mmodel_selection\u001b[0m\u001b[0;34m\u001b[0m\u001b[0;34m\u001b[0m\u001b[0m\n\u001b[0m\u001b[1;32m      4\u001b[0m \u001b[0;32mfrom\u001b[0m \u001b[0msklearn\u001b[0m\u001b[0;34m.\u001b[0m\u001b[0mmodel_selection\u001b[0m \u001b[0;32mimport\u001b[0m \u001b[0mGroupKFold\u001b[0m\u001b[0;34m\u001b[0m\u001b[0;34m\u001b[0m\u001b[0m\n\u001b[1;32m      5\u001b[0m \u001b[0;32mimport\u001b[0m \u001b[0mpandas\u001b[0m \u001b[0;32mas\u001b[0m \u001b[0mpd\u001b[0m\u001b[0;34m\u001b[0m\u001b[0;34m\u001b[0m\u001b[0m\n",
      "\u001b[0;31mModuleNotFoundError\u001b[0m: No module named 'sklearn'"
     ]
    }
   ],
   "source": [
    "import random\n",
    "import numpy as np\n",
    "from sklearn import model_selection\n",
    "from sklearn.model_selection import GroupKFold\n",
    "import pandas as pd\n",
    "import math\n",
    "import time\n",
    "import os\n",
    "from rdflib import Graph, URIRef, Literal, RDF, ConjunctiveGraph, Namespace"
   ]
  },
  {
   "cell_type": "markdown",
   "metadata": {},
   "source": [
    "# Get the features and gold standard "
   ]
  },
  {
   "cell_type": "code",
   "execution_count": null,
   "metadata": {},
   "outputs": [],
   "source": [
    "drugfeatfiles = ['drugs-fingerprint-sim.csv','drugs-se-sim.csv', \n",
    "                     'drugs-ppi-sim.csv', 'drugs-target-go-sim.csv','drugs-target-seq-sim.csv']\n",
    "diseasefeatfiles =['diseases-hpo-sim.csv',  'diseases-pheno-sim.csv' ]\n",
    "feature_folder =\"data/features\"\n",
    "\n"
   ]
  },
  {
   "cell_type": "code",
   "execution_count": null,
   "metadata": {},
   "outputs": [],
   "source": [
    "drugfeatfiles = [ os.path.join(feature_folder, fn) for fn in drugfeatfiles]\n",
    "diseasefeatfiles = [ os.path.join(feature_folder, fn) for fn in diseasefeatfiles]"
   ]
  },
  {
   "cell_type": "code",
   "execution_count": null,
   "metadata": {},
   "outputs": [],
   "source": [
    "drugfeatfiles\n",
    "\n"
   ]
  },
  {
   "cell_type": "code",
   "execution_count": null,
   "metadata": {},
   "outputs": [],
   "source": [
    "diseasefeatfiles\n"
   ]
  },
  {
   "cell_type": "code",
   "execution_count": null,
   "metadata": {},
   "outputs": [],
   "source": [
    "drug_ind=\"data/input/openpredict-omim-drug.csv\""
   ]
  },
  {
   "cell_type": "code",
   "execution_count": null,
   "metadata": {},
   "outputs": [],
   "source": [
    "#goldindfile = 'data/input/openpredict-omim-drug.csv'\n",
    "drugDiseaseKnown = pd.read_csv(drug_ind,delimiter=',') \n",
    "drugDiseaseKnown.head()"
   ]
  },
  {
   "cell_type": "code",
   "execution_count": null,
   "metadata": {},
   "outputs": [],
   "source": [
    "drugDiseaseKnown.rename(columns={'drugid':'Drug','omimid':'Disease'}, inplace=True)\n",
    "drugDiseaseKnown.Disease = drugDiseaseKnown.Disease.astype(str)\n",
    "drugDiseaseKnown.head()"
   ]
  },
  {
   "cell_type": "markdown",
   "metadata": {},
   "source": [
    "# Merge feature matrix"
   ]
  },
  {
   "cell_type": "code",
   "execution_count": 9,
   "metadata": {},
   "outputs": [],
   "source": [
    "def adjcencydict2matrix(df, name1, name2):\n",
    "    df1 = df.copy()\n",
    "    df1= df1.rename(index=str, columns={name1: name2, name2: name1})\n",
    "    print (len(df))\n",
    "    df =df.append(df1)\n",
    "    print (len(df))\n",
    "    return df.pivot(index=name1, columns=name2)\n",
    "\n",
    "def mergeFeatureMatrix(drugfeatfiles, diseasefeatfiles):\n",
    "    for i,featureFilename in enumerate(drugfeatfiles):\n",
    "        print (featureFilename)\n",
    "        df = pd.read_csv(featureFilename, delimiter=',')\n",
    "        cond = df.Drug1 > df.Drug2\n",
    "        df.loc[cond, ['Drug1', 'Drug2']] = df.loc[cond, ['Drug2', 'Drug1']].values\n",
    "        if i != 0:\n",
    "            drug_df=drug_df.merge(df,on=['Drug1','Drug2'],how='inner')\n",
    "            #drug_df=drug_df.merge(temp,how='outer',on='Drug')\n",
    "        else:\n",
    "            drug_df =df\n",
    "    drug_df.fillna(0, inplace=True)\n",
    "    \n",
    "    drug_df = adjcencydict2matrix(drug_df, 'Drug1', 'Drug2')\n",
    "    drug_df = drug_df.fillna(1.0)\n",
    "\n",
    "    \n",
    "    for i,featureFilename in enumerate(diseasefeatfiles):\n",
    "        print (featureFilename)\n",
    "        df=pd.read_csv(featureFilename, delimiter=',')\n",
    "        cond = df.Disease1 > df.Disease2\n",
    "        df.loc[cond, ['Disease1','Disease2']] = df.loc[cond, ['Disease2','Disease1']].values\n",
    "        if i != 0:\n",
    "            disease_df = disease_df.merge(df,on=['Disease1','Disease2'], how='inner')\n",
    "            #drug_df=drug_df.merge(temp,how='outer',on='Drug')\n",
    "        else:\n",
    "            disease_df = df\n",
    "    disease_df.fillna(0, inplace=True)\n",
    "    disease_df.Disease1 = disease_df.Disease1.astype(str)\n",
    "    disease_df.Disease2 = disease_df.Disease2.astype(str)\n",
    "    \n",
    "    disease_df = adjcencydict2matrix(disease_df, 'Disease1', 'Disease2')\n",
    "    disease_df = disease_df.fillna(1.0)\n",
    "    \n",
    "    return drug_df, disease_df"
   ]
  },
  {
   "cell_type": "code",
   "execution_count": 10,
   "metadata": {},
   "outputs": [
    {
     "name": "stdout",
     "output_type": "stream",
     "text": [
      "data/features/drugs-fingerprint-sim.csv\n",
      "data/features/drugs-se-sim.csv\n",
      "data/features/drugs-ppi-sim.csv\n",
      "data/features/drugs-target-go-sim.csv\n",
      "data/features/drugs-target-seq-sim.csv\n",
      "129795\n",
      "259590\n",
      "data/features/diseases-hpo-sim.csv\n",
      "data/features/diseases-pheno-sim.csv\n",
      "44850\n",
      "89700\n"
     ]
    }
   ],
   "source": [
    "drug_df, disease_df = mergeFeatureMatrix(drugfeatfiles, diseasefeatfiles)"
   ]
  },
  {
   "cell_type": "code",
   "execution_count": 11,
   "metadata": {},
   "outputs": [
    {
     "data": {
      "text/html": [
       "<div>\n",
       "<style scoped>\n",
       "    .dataframe tbody tr th:only-of-type {\n",
       "        vertical-align: middle;\n",
       "    }\n",
       "\n",
       "    .dataframe tbody tr th {\n",
       "        vertical-align: top;\n",
       "    }\n",
       "\n",
       "    .dataframe thead tr th {\n",
       "        text-align: left;\n",
       "    }\n",
       "\n",
       "    .dataframe thead tr:last-of-type th {\n",
       "        text-align: right;\n",
       "    }\n",
       "</style>\n",
       "<table border=\"1\" class=\"dataframe\">\n",
       "  <thead>\n",
       "    <tr>\n",
       "      <th></th>\n",
       "      <th colspan=\"10\" halign=\"left\">TC</th>\n",
       "      <th>...</th>\n",
       "      <th colspan=\"10\" halign=\"left\">TARGETSEQ-SIM</th>\n",
       "    </tr>\n",
       "    <tr>\n",
       "      <th>Drug2</th>\n",
       "      <th>DB00014</th>\n",
       "      <th>DB00035</th>\n",
       "      <th>DB00091</th>\n",
       "      <th>DB00104</th>\n",
       "      <th>DB00122</th>\n",
       "      <th>DB00125</th>\n",
       "      <th>DB00136</th>\n",
       "      <th>DB00153</th>\n",
       "      <th>DB00162</th>\n",
       "      <th>DB00165</th>\n",
       "      <th>...</th>\n",
       "      <th>DB01576</th>\n",
       "      <th>DB01577</th>\n",
       "      <th>DB01579</th>\n",
       "      <th>DB01590</th>\n",
       "      <th>DB01623</th>\n",
       "      <th>DB02546</th>\n",
       "      <th>DB04272</th>\n",
       "      <th>DB04844</th>\n",
       "      <th>DB04861</th>\n",
       "      <th>DB06287</th>\n",
       "    </tr>\n",
       "    <tr>\n",
       "      <th>Drug1</th>\n",
       "      <th></th>\n",
       "      <th></th>\n",
       "      <th></th>\n",
       "      <th></th>\n",
       "      <th></th>\n",
       "      <th></th>\n",
       "      <th></th>\n",
       "      <th></th>\n",
       "      <th></th>\n",
       "      <th></th>\n",
       "      <th></th>\n",
       "      <th></th>\n",
       "      <th></th>\n",
       "      <th></th>\n",
       "      <th></th>\n",
       "      <th></th>\n",
       "      <th></th>\n",
       "      <th></th>\n",
       "      <th></th>\n",
       "      <th></th>\n",
       "      <th></th>\n",
       "    </tr>\n",
       "  </thead>\n",
       "  <tbody>\n",
       "    <tr>\n",
       "      <th>DB00014</th>\n",
       "      <td>1.000000</td>\n",
       "      <td>0.732558</td>\n",
       "      <td>0.574713</td>\n",
       "      <td>0.655172</td>\n",
       "      <td>0.313953</td>\n",
       "      <td>0.361446</td>\n",
       "      <td>0.402299</td>\n",
       "      <td>0.321839</td>\n",
       "      <td>0.244186</td>\n",
       "      <td>0.376471</td>\n",
       "      <td>...</td>\n",
       "      <td>0.076672</td>\n",
       "      <td>0.148647</td>\n",
       "      <td>0.039052</td>\n",
       "      <td>0.028215</td>\n",
       "      <td>0.081568</td>\n",
       "      <td>0.043257</td>\n",
       "      <td>0.053699</td>\n",
       "      <td>0.053920</td>\n",
       "      <td>0.113543</td>\n",
       "      <td>0.028215</td>\n",
       "    </tr>\n",
       "    <tr>\n",
       "      <th>DB00035</th>\n",
       "      <td>0.732558</td>\n",
       "      <td>1.000000</td>\n",
       "      <td>0.544304</td>\n",
       "      <td>0.697368</td>\n",
       "      <td>0.240506</td>\n",
       "      <td>0.441176</td>\n",
       "      <td>0.289157</td>\n",
       "      <td>0.219512</td>\n",
       "      <td>0.150000</td>\n",
       "      <td>0.378378</td>\n",
       "      <td>...</td>\n",
       "      <td>0.024000</td>\n",
       "      <td>0.030028</td>\n",
       "      <td>0.023312</td>\n",
       "      <td>0.043115</td>\n",
       "      <td>0.023471</td>\n",
       "      <td>0.033298</td>\n",
       "      <td>0.031706</td>\n",
       "      <td>0.024000</td>\n",
       "      <td>0.021341</td>\n",
       "      <td>0.043115</td>\n",
       "    </tr>\n",
       "    <tr>\n",
       "      <th>DB00091</th>\n",
       "      <td>0.574713</td>\n",
       "      <td>0.544304</td>\n",
       "      <td>1.000000</td>\n",
       "      <td>0.539474</td>\n",
       "      <td>0.365079</td>\n",
       "      <td>0.303030</td>\n",
       "      <td>0.397059</td>\n",
       "      <td>0.294118</td>\n",
       "      <td>0.250000</td>\n",
       "      <td>0.384615</td>\n",
       "      <td>...</td>\n",
       "      <td>0.039643</td>\n",
       "      <td>0.045992</td>\n",
       "      <td>0.036710</td>\n",
       "      <td>0.016369</td>\n",
       "      <td>0.031936</td>\n",
       "      <td>0.059601</td>\n",
       "      <td>0.073739</td>\n",
       "      <td>0.039643</td>\n",
       "      <td>0.047390</td>\n",
       "      <td>0.016369</td>\n",
       "    </tr>\n",
       "    <tr>\n",
       "      <th>DB00104</th>\n",
       "      <td>0.655172</td>\n",
       "      <td>0.697368</td>\n",
       "      <td>0.539474</td>\n",
       "      <td>1.000000</td>\n",
       "      <td>0.256757</td>\n",
       "      <td>0.347826</td>\n",
       "      <td>0.378378</td>\n",
       "      <td>0.283784</td>\n",
       "      <td>0.208333</td>\n",
       "      <td>0.469697</td>\n",
       "      <td>...</td>\n",
       "      <td>0.178035</td>\n",
       "      <td>0.180648</td>\n",
       "      <td>0.048190</td>\n",
       "      <td>0.015979</td>\n",
       "      <td>0.172655</td>\n",
       "      <td>0.040032</td>\n",
       "      <td>0.052726</td>\n",
       "      <td>0.054976</td>\n",
       "      <td>0.188184</td>\n",
       "      <td>0.019203</td>\n",
       "    </tr>\n",
       "    <tr>\n",
       "      <th>DB00122</th>\n",
       "      <td>0.313953</td>\n",
       "      <td>0.240506</td>\n",
       "      <td>0.365079</td>\n",
       "      <td>0.256757</td>\n",
       "      <td>1.000000</td>\n",
       "      <td>0.291667</td>\n",
       "      <td>0.267857</td>\n",
       "      <td>0.280000</td>\n",
       "      <td>0.400000</td>\n",
       "      <td>0.200000</td>\n",
       "      <td>...</td>\n",
       "      <td>0.040534</td>\n",
       "      <td>0.040534</td>\n",
       "      <td>0.041460</td>\n",
       "      <td>0.027075</td>\n",
       "      <td>0.033040</td>\n",
       "      <td>0.050565</td>\n",
       "      <td>0.065972</td>\n",
       "      <td>0.036566</td>\n",
       "      <td>0.042961</td>\n",
       "      <td>0.035405</td>\n",
       "    </tr>\n",
       "  </tbody>\n",
       "</table>\n",
       "<p>5 rows × 3060 columns</p>\n",
       "</div>"
      ],
      "text/plain": [
       "               TC                                                              \\\n",
       "Drug2     DB00014   DB00035   DB00091   DB00104   DB00122   DB00125   DB00136   \n",
       "Drug1                                                                           \n",
       "DB00014  1.000000  0.732558  0.574713  0.655172  0.313953  0.361446  0.402299   \n",
       "DB00035  0.732558  1.000000  0.544304  0.697368  0.240506  0.441176  0.289157   \n",
       "DB00091  0.574713  0.544304  1.000000  0.539474  0.365079  0.303030  0.397059   \n",
       "DB00104  0.655172  0.697368  0.539474  1.000000  0.256757  0.347826  0.378378   \n",
       "DB00122  0.313953  0.240506  0.365079  0.256757  1.000000  0.291667  0.267857   \n",
       "\n",
       "                                       ... TARGETSEQ-SIM                      \\\n",
       "Drug2     DB00153   DB00162   DB00165  ...       DB01576   DB01577   DB01579   \n",
       "Drug1                                  ...                                     \n",
       "DB00014  0.321839  0.244186  0.376471  ...      0.076672  0.148647  0.039052   \n",
       "DB00035  0.219512  0.150000  0.378378  ...      0.024000  0.030028  0.023312   \n",
       "DB00091  0.294118  0.250000  0.384615  ...      0.039643  0.045992  0.036710   \n",
       "DB00104  0.283784  0.208333  0.469697  ...      0.178035  0.180648  0.048190   \n",
       "DB00122  0.280000  0.400000  0.200000  ...      0.040534  0.040534  0.041460   \n",
       "\n",
       "                                                                               \n",
       "Drug2     DB01590   DB01623   DB02546   DB04272   DB04844   DB04861   DB06287  \n",
       "Drug1                                                                          \n",
       "DB00014  0.028215  0.081568  0.043257  0.053699  0.053920  0.113543  0.028215  \n",
       "DB00035  0.043115  0.023471  0.033298  0.031706  0.024000  0.021341  0.043115  \n",
       "DB00091  0.016369  0.031936  0.059601  0.073739  0.039643  0.047390  0.016369  \n",
       "DB00104  0.015979  0.172655  0.040032  0.052726  0.054976  0.188184  0.019203  \n",
       "DB00122  0.027075  0.033040  0.050565  0.065972  0.036566  0.042961  0.035405  \n",
       "\n",
       "[5 rows x 3060 columns]"
      ]
     },
     "execution_count": 11,
     "metadata": {},
     "output_type": "execute_result"
    }
   ],
   "source": [
    "drug_df.head()"
   ]
  },
  {
   "cell_type": "code",
   "execution_count": 12,
   "metadata": {},
   "outputs": [
    {
     "data": {
      "text/html": [
       "<div>\n",
       "<style scoped>\n",
       "    .dataframe tbody tr th:only-of-type {\n",
       "        vertical-align: middle;\n",
       "    }\n",
       "\n",
       "    .dataframe tbody tr th {\n",
       "        vertical-align: top;\n",
       "    }\n",
       "\n",
       "    .dataframe thead tr th {\n",
       "        text-align: left;\n",
       "    }\n",
       "\n",
       "    .dataframe thead tr:last-of-type th {\n",
       "        text-align: right;\n",
       "    }\n",
       "</style>\n",
       "<table border=\"1\" class=\"dataframe\">\n",
       "  <thead>\n",
       "    <tr>\n",
       "      <th></th>\n",
       "      <th colspan=\"10\" halign=\"left\">HPO-SIM</th>\n",
       "      <th>...</th>\n",
       "      <th colspan=\"10\" halign=\"left\">PHENO-SIM</th>\n",
       "    </tr>\n",
       "    <tr>\n",
       "      <th>Disease2</th>\n",
       "      <th>102100</th>\n",
       "      <th>102300</th>\n",
       "      <th>102400</th>\n",
       "      <th>102500</th>\n",
       "      <th>103100</th>\n",
       "      <th>103780</th>\n",
       "      <th>104130</th>\n",
       "      <th>104300</th>\n",
       "      <th>106400</th>\n",
       "      <th>107320</th>\n",
       "      <th>...</th>\n",
       "      <th>607682</th>\n",
       "      <th>607685</th>\n",
       "      <th>607850</th>\n",
       "      <th>608033</th>\n",
       "      <th>608088</th>\n",
       "      <th>608105</th>\n",
       "      <th>608217</th>\n",
       "      <th>608320</th>\n",
       "      <th>608583</th>\n",
       "      <th>608622</th>\n",
       "    </tr>\n",
       "    <tr>\n",
       "      <th>Disease1</th>\n",
       "      <th></th>\n",
       "      <th></th>\n",
       "      <th></th>\n",
       "      <th></th>\n",
       "      <th></th>\n",
       "      <th></th>\n",
       "      <th></th>\n",
       "      <th></th>\n",
       "      <th></th>\n",
       "      <th></th>\n",
       "      <th></th>\n",
       "      <th></th>\n",
       "      <th></th>\n",
       "      <th></th>\n",
       "      <th></th>\n",
       "      <th></th>\n",
       "      <th></th>\n",
       "      <th></th>\n",
       "      <th></th>\n",
       "      <th></th>\n",
       "      <th></th>\n",
       "    </tr>\n",
       "  </thead>\n",
       "  <tbody>\n",
       "    <tr>\n",
       "      <th>102100</th>\n",
       "      <td>1.000000</td>\n",
       "      <td>0.228439</td>\n",
       "      <td>0.420190</td>\n",
       "      <td>0.432394</td>\n",
       "      <td>0.365865</td>\n",
       "      <td>0.091080</td>\n",
       "      <td>0.312120</td>\n",
       "      <td>0.210254</td>\n",
       "      <td>0.516519</td>\n",
       "      <td>0.341580</td>\n",
       "      <td>...</td>\n",
       "      <td>0.0</td>\n",
       "      <td>0.0</td>\n",
       "      <td>0.0</td>\n",
       "      <td>0.0</td>\n",
       "      <td>0.0</td>\n",
       "      <td>0.0</td>\n",
       "      <td>0.0</td>\n",
       "      <td>0.0</td>\n",
       "      <td>0.0</td>\n",
       "      <td>0.0</td>\n",
       "    </tr>\n",
       "    <tr>\n",
       "      <th>102300</th>\n",
       "      <td>0.228439</td>\n",
       "      <td>1.000000</td>\n",
       "      <td>0.291239</td>\n",
       "      <td>0.257371</td>\n",
       "      <td>0.480403</td>\n",
       "      <td>0.427043</td>\n",
       "      <td>0.425632</td>\n",
       "      <td>0.510889</td>\n",
       "      <td>0.326918</td>\n",
       "      <td>0.204134</td>\n",
       "      <td>...</td>\n",
       "      <td>0.0</td>\n",
       "      <td>0.0</td>\n",
       "      <td>0.0</td>\n",
       "      <td>0.0</td>\n",
       "      <td>0.0</td>\n",
       "      <td>0.0</td>\n",
       "      <td>0.0</td>\n",
       "      <td>0.0</td>\n",
       "      <td>0.0</td>\n",
       "      <td>0.0</td>\n",
       "    </tr>\n",
       "    <tr>\n",
       "      <th>102400</th>\n",
       "      <td>0.420190</td>\n",
       "      <td>0.291239</td>\n",
       "      <td>1.000000</td>\n",
       "      <td>0.464588</td>\n",
       "      <td>0.334854</td>\n",
       "      <td>0.083732</td>\n",
       "      <td>0.257330</td>\n",
       "      <td>0.273490</td>\n",
       "      <td>0.484795</td>\n",
       "      <td>0.210790</td>\n",
       "      <td>...</td>\n",
       "      <td>0.0</td>\n",
       "      <td>0.0</td>\n",
       "      <td>0.0</td>\n",
       "      <td>0.0</td>\n",
       "      <td>0.0</td>\n",
       "      <td>0.0</td>\n",
       "      <td>0.0</td>\n",
       "      <td>0.0</td>\n",
       "      <td>0.0</td>\n",
       "      <td>0.0</td>\n",
       "    </tr>\n",
       "    <tr>\n",
       "      <th>102500</th>\n",
       "      <td>0.432394</td>\n",
       "      <td>0.257371</td>\n",
       "      <td>0.464588</td>\n",
       "      <td>1.000000</td>\n",
       "      <td>0.266952</td>\n",
       "      <td>0.221382</td>\n",
       "      <td>0.427080</td>\n",
       "      <td>0.263057</td>\n",
       "      <td>0.439328</td>\n",
       "      <td>0.184396</td>\n",
       "      <td>...</td>\n",
       "      <td>0.0</td>\n",
       "      <td>0.0</td>\n",
       "      <td>0.0</td>\n",
       "      <td>0.0</td>\n",
       "      <td>0.0</td>\n",
       "      <td>0.0</td>\n",
       "      <td>0.0</td>\n",
       "      <td>0.0</td>\n",
       "      <td>0.0</td>\n",
       "      <td>0.0</td>\n",
       "    </tr>\n",
       "    <tr>\n",
       "      <th>103100</th>\n",
       "      <td>0.365865</td>\n",
       "      <td>0.480403</td>\n",
       "      <td>0.334854</td>\n",
       "      <td>0.266952</td>\n",
       "      <td>1.000000</td>\n",
       "      <td>0.322904</td>\n",
       "      <td>0.426191</td>\n",
       "      <td>0.459806</td>\n",
       "      <td>0.370533</td>\n",
       "      <td>0.453242</td>\n",
       "      <td>...</td>\n",
       "      <td>0.0</td>\n",
       "      <td>0.0</td>\n",
       "      <td>0.0</td>\n",
       "      <td>0.0</td>\n",
       "      <td>0.0</td>\n",
       "      <td>0.0</td>\n",
       "      <td>0.0</td>\n",
       "      <td>0.0</td>\n",
       "      <td>0.0</td>\n",
       "      <td>0.0</td>\n",
       "    </tr>\n",
       "  </tbody>\n",
       "</table>\n",
       "<p>5 rows × 600 columns</p>\n",
       "</div>"
      ],
      "text/plain": [
       "           HPO-SIM                                                    \\\n",
       "Disease2    102100    102300    102400    102500    103100    103780   \n",
       "Disease1                                                               \n",
       "102100    1.000000  0.228439  0.420190  0.432394  0.365865  0.091080   \n",
       "102300    0.228439  1.000000  0.291239  0.257371  0.480403  0.427043   \n",
       "102400    0.420190  0.291239  1.000000  0.464588  0.334854  0.083732   \n",
       "102500    0.432394  0.257371  0.464588  1.000000  0.266952  0.221382   \n",
       "103100    0.365865  0.480403  0.334854  0.266952  1.000000  0.322904   \n",
       "\n",
       "                                                  ... PHENO-SIM                \\\n",
       "Disease2    104130    104300    106400    107320  ...    607682 607685 607850   \n",
       "Disease1                                          ...                           \n",
       "102100    0.312120  0.210254  0.516519  0.341580  ...       0.0    0.0    0.0   \n",
       "102300    0.425632  0.510889  0.326918  0.204134  ...       0.0    0.0    0.0   \n",
       "102400    0.257330  0.273490  0.484795  0.210790  ...       0.0    0.0    0.0   \n",
       "102500    0.427080  0.263057  0.439328  0.184396  ...       0.0    0.0    0.0   \n",
       "103100    0.426191  0.459806  0.370533  0.453242  ...       0.0    0.0    0.0   \n",
       "\n",
       "                                                           \n",
       "Disease2 608033 608088 608105 608217 608320 608583 608622  \n",
       "Disease1                                                   \n",
       "102100      0.0    0.0    0.0    0.0    0.0    0.0    0.0  \n",
       "102300      0.0    0.0    0.0    0.0    0.0    0.0    0.0  \n",
       "102400      0.0    0.0    0.0    0.0    0.0    0.0    0.0  \n",
       "102500      0.0    0.0    0.0    0.0    0.0    0.0    0.0  \n",
       "103100      0.0    0.0    0.0    0.0    0.0    0.0    0.0  \n",
       "\n",
       "[5 rows x 600 columns]"
      ]
     },
     "execution_count": 12,
     "metadata": {},
     "output_type": "execute_result"
    }
   ],
   "source": [
    "disease_df.head()"
   ]
  },
  {
   "cell_type": "markdown",
   "metadata": {},
   "source": [
    "# Generate positive and negative pairs"
   ]
  },
  {
   "cell_type": "code",
   "execution_count": 13,
   "metadata": {},
   "outputs": [],
   "source": [
    "def generatePairs(drug_df, disease_df, drugDiseaseKnown):\n",
    "    drugwithfeatures = set(drug_df.columns.levels[1])\n",
    "    diseaseswithfeatures = set(disease_df.columns.levels[1])\n",
    "    \n",
    "    drugDiseaseDict  = set([tuple(x) for x in  drugDiseaseKnown[['Drug','Disease']].values])\n",
    "\n",
    "    commonDrugs= drugwithfeatures.intersection( drugDiseaseKnown.Drug.unique())\n",
    "    commonDiseases=  diseaseswithfeatures.intersection(drugDiseaseKnown.Disease.unique() )\n",
    "    print (\"commonDrugs: %d commonDiseases : %d\"%(len(commonDrugs),len(commonDiseases)))\n",
    "\n",
    "    #abridged_drug_disease = [(dr,di)  for  (dr,di)  in drugDiseaseDict if dr in drugwithfeatures and di in diseaseswithfeatures ]\n",
    "\n",
    "    #commonDrugs = set( [ dr  for dr,di in  abridged_drug_disease])\n",
    "    #commonDiseases  =set([ di  for dr,di in  abridged_drug_disease])\n",
    "\n",
    "    print (\"Gold standard, associations: %d drugs: %d diseases: %d\"%(len(drugDiseaseKnown),len(drugDiseaseKnown.Drug.unique()),len(drugDiseaseKnown.Disease.unique())))\n",
    "    print (\"Drugs with features: %d Diseases with features: %d\"%(len(drugwithfeatures),len(diseaseswithfeatures)))\n",
    "    print (\"commonDrugs: %d commonDiseases : %d\"%(len(commonDrugs),len(commonDiseases)))\n",
    "\n",
    "    pairs=[]\n",
    "    classes=[]\n",
    "    for dr in commonDrugs:\n",
    "        for di in commonDiseases:\n",
    "            cls = (1 if (dr,di) in drugDiseaseDict else 0)\n",
    "            pairs.append((dr,di))\n",
    "            classes.append(cls)\n",
    "            \n",
    "    return pairs, classes"
   ]
  },
  {
   "cell_type": "code",
   "execution_count": 14,
   "metadata": {},
   "outputs": [
    {
     "name": "stdout",
     "output_type": "stream",
     "text": [
      "commonDrugs: 510 commonDiseases : 300\n",
      "Gold standard, associations: 1933 drugs: 592 diseases: 313\n",
      "Drugs with features: 510 Diseases with features: 300\n",
      "commonDrugs: 510 commonDiseases : 300\n"
     ]
    }
   ],
   "source": [
    "pairs, classes = generatePairs(drug_df, disease_df, drugDiseaseKnown)"
   ]
  },
  {
   "cell_type": "markdown",
   "metadata": {},
   "source": [
    "# Balance negative samples/postives "
   ]
  },
  {
   "cell_type": "code",
   "execution_count": 15,
   "metadata": {},
   "outputs": [],
   "source": [
    "from sklearn.model_selection import GroupKFold\n",
    "from sklearn.model_selection import StratifiedKFold\n",
    "def balance_data(pairs, classes, n_proportion):\n",
    "    classes = np.array(classes)\n",
    "    pairs = np.array(pairs)\n",
    "    \n",
    "    indices_true = np.where(classes == 1)[0]\n",
    "    indices_false = np.where(classes == 0)[0]\n",
    "\n",
    "    np.random.shuffle(indices_false)\n",
    "    indices = indices_false[:(n_proportion*indices_true.shape[0])]\n",
    "    print (\"+/-:\", len(indices_true), len(indices), len(indices_false))\n",
    "    pairs = np.concatenate((pairs[indices_true], pairs[indices]), axis=0)\n",
    "    classes = np.concatenate((classes[indices_true], classes[indices]), axis=0) \n",
    "    \n",
    " \n",
    "    return pairs, classes"
   ]
  },
  {
   "cell_type": "code",
   "execution_count": 16,
   "metadata": {},
   "outputs": [
    {
     "name": "stdout",
     "output_type": "stream",
     "text": [
      "+/-: 1671 3342 151329\n"
     ]
    }
   ],
   "source": [
    "n_proportion = 2\n",
    "pairs, classes= balance_data(pairs, classes, n_proportion)"
   ]
  },
  {
   "cell_type": "markdown",
   "metadata": {},
   "source": [
    "# Train-Test Splitting"
   ]
  },
  {
   "cell_type": "code",
   "execution_count": 17,
   "metadata": {},
   "outputs": [],
   "source": [
    "pairs_train, pairs_test, classes_train, classes_test = model_selection.train_test_split(pairs, classes, stratify=classes, test_size=0.2, shuffle=True)"
   ]
  },
  {
   "cell_type": "code",
   "execution_count": 18,
   "metadata": {},
   "outputs": [
    {
     "data": {
      "text/plain": [
       "(4010, 1003)"
      ]
     },
     "execution_count": 18,
     "metadata": {},
     "output_type": "execute_result"
    }
   ],
   "source": [
    "len(pairs_train), len(pairs_test)"
   ]
  },
  {
   "cell_type": "markdown",
   "metadata": {},
   "source": [
    "# Feature extraction (Best Combined similarity)"
   ]
  },
  {
   "cell_type": "code",
   "execution_count": 19,
   "metadata": {},
   "outputs": [],
   "source": [
    "def geometricMean(drug, disease, knownDrugDisease, drugDF, diseaseDF):\n",
    "    #print (drug, disease)\n",
    "    a  = drugDF.loc[knownDrugDisease[:,0]][drug].values\n",
    "    b  = diseaseDF.loc[knownDrugDisease[:,1]][disease].values\n",
    "    #print (a,b)\n",
    "    c = np.sqrt( np.multiply(a,b) )\n",
    "    ix2 = (knownDrugDisease == [drug, disease])\n",
    "    c[ix2[:,1]& ix2[:,0]]=0.0\n",
    "    return float(np.max(c))\n",
    "\n",
    "\n",
    "def createFeatureDF(pairs, classes, knownDrugDisease, drugDFs, diseaseDFs):\n",
    "    totalNumFeatures = len(drugDFs)*len(diseaseDFs)\n",
    "    #featureMatri x= np.empty((len(classes),totalNumFeatures), float)\n",
    "    df =pd.DataFrame(list(zip(pairs[:,0], pairs[:,1], classes)), columns =['Drug','Disease','Class'])\n",
    "    index = 0\n",
    "    for i,drug_col in enumerate(drugDFs.columns.levels[0]):\n",
    "        for j,disease_col in enumerate(diseaseDFs.columns.levels[0]):\n",
    "            drugDF = drugDFs[drug_col]\n",
    "            diseaseDF = diseaseDFs[disease_col]\n",
    "            df[\"Feature_\"+str(drug_col)+'_'+str(disease_col)] = df.apply(lambda row: geometricMean( row.Drug, row.Disease, knownDrugDisease, drugDF, diseaseDF), axis=1)\n",
    "    return df\n",
    "\n",
    "def calculateCombinedSimilarity(pairs_train, pairs_test, classes_train, classes_test, drug_df, disease_df, knownDrugDisease):\n",
    "    train_df  = createFeatureDF(pairs_train, classes_train, knownDrugDisease, drug_df, disease_df)\n",
    "    test_df = createFeatureDF(pairs_test, classes_test, knownDrugDisease, drug_df, disease_df)\n",
    "    return train_df, test_df"
   ]
  },
  {
   "cell_type": "code",
   "execution_count": 20,
   "metadata": {},
   "outputs": [],
   "source": [
    "knownDrugDisease= pairs_train[classes_train==1]\n",
    "train_df, test_df = calculateCombinedSimilarity(pairs_train, pairs_test, classes_train, classes_test, drug_df, disease_df, knownDrugDisease)"
   ]
  },
  {
   "cell_type": "markdown",
   "metadata": {},
   "source": [
    "# Model Training"
   ]
  },
  {
   "cell_type": "code",
   "execution_count": 48,
   "metadata": {},
   "outputs": [],
   "source": [
    "from sklearn import tree, ensemble\n",
    "from sklearn import svm, linear_model, neighbors\n",
    "\n",
    "def trainModel(train_df, clf):\n",
    "    #features = list(train_df.columns.difference(['Drug','Disease','Class']))\n",
    "    features= ['Feature_GO-SIM_HPO-SIM',\n",
    " 'Feature_GO-SIM_PHENO-SIM',\n",
    " 'Feature_PPI-SIM_HPO-SIM',\n",
    " 'Feature_PPI-SIM_PHENO-SIM',\n",
    " 'Feature_SE-SIM_HPO-SIM',\n",
    " 'Feature_SE-SIM_PHENO-SIM',\n",
    " 'Feature_TARGETSEQ-SIM_HPO-SIM',\n",
    " 'Feature_TARGETSEQ-SIM_PHENO-SIM',\n",
    " 'Feature_TC_HPO-SIM',\n",
    " 'Feature_TC_PHENO-SIM']\n",
    "    X = train_df[features]\n",
    "    y = train_df['Class']\n",
    "    X.head()\n",
    "    print ('fiting classifier...')\n",
    "    clf.fit(X, y)\n",
    "    return clf"
   ]
  },
  {
   "cell_type": "code",
   "execution_count": null,
   "metadata": {},
   "outputs": [],
   "source": []
  },
  {
   "cell_type": "code",
   "execution_count": 37,
   "metadata": {},
   "outputs": [
    {
     "ename": "ImportError",
     "evalue": "Missing optional dependency 'tables'.  Use pip or conda to install tables.",
     "output_type": "error",
     "traceback": [
      "\u001b[0;31m---------------------------------------------------------------------------\u001b[0m",
      "\u001b[0;31mImportError\u001b[0m                               Traceback (most recent call last)",
      "\u001b[0;32m<ipython-input-37-80388ce55ea9>\u001b[0m in \u001b[0;36m<module>\u001b[0;34m\u001b[0m\n\u001b[1;32m      6\u001b[0m \u001b[0mXh5File\u001b[0m \u001b[0;34m=\u001b[0m \u001b[0;34m\"Xfromdf.h5\"\u001b[0m\u001b[0;34m\u001b[0m\u001b[0;34m\u001b[0m\u001b[0m\n\u001b[1;32m      7\u001b[0m \u001b[0myH5file\u001b[0m \u001b[0;34m=\u001b[0m \u001b[0;34m\"Yfromdf.h5\"\u001b[0m\u001b[0;34m\u001b[0m\u001b[0;34m\u001b[0m\u001b[0m\n\u001b[0;32m----> 8\u001b[0;31m \u001b[0mX\u001b[0m\u001b[0;34m.\u001b[0m\u001b[0mto_hdf\u001b[0m\u001b[0;34m(\u001b[0m\u001b[0mXh5File\u001b[0m\u001b[0;34m,\u001b[0m \u001b[0;34m\"X\"\u001b[0m\u001b[0;34m)\u001b[0m\u001b[0;34m\u001b[0m\u001b[0;34m\u001b[0m\u001b[0m\n\u001b[0m\u001b[1;32m      9\u001b[0m \u001b[0my\u001b[0m\u001b[0;34m.\u001b[0m\u001b[0mto_hdf\u001b[0m\u001b[0;34m(\u001b[0m\u001b[0myh5File\u001b[0m\u001b[0;34m,\u001b[0m \u001b[0;34m\"y\"\u001b[0m\u001b[0;34m)\u001b[0m\u001b[0;34m\u001b[0m\u001b[0;34m\u001b[0m\u001b[0m\n\u001b[1;32m     10\u001b[0m \u001b[0;34m\u001b[0m\u001b[0m\n",
      "\u001b[0;32m/usr/local/lib/python3.9/site-packages/pandas/core/generic.py\u001b[0m in \u001b[0;36mto_hdf\u001b[0;34m(self, path_or_buf, key, mode, complevel, complib, append, format, index, min_itemsize, nan_rep, dropna, data_columns, errors, encoding)\u001b[0m\n\u001b[1;32m   2432\u001b[0m         \u001b[0;32mfrom\u001b[0m \u001b[0mpandas\u001b[0m\u001b[0;34m.\u001b[0m\u001b[0mio\u001b[0m \u001b[0;32mimport\u001b[0m \u001b[0mpytables\u001b[0m\u001b[0;34m\u001b[0m\u001b[0;34m\u001b[0m\u001b[0m\n\u001b[1;32m   2433\u001b[0m \u001b[0;34m\u001b[0m\u001b[0m\n\u001b[0;32m-> 2434\u001b[0;31m         pytables.to_hdf(\n\u001b[0m\u001b[1;32m   2435\u001b[0m             \u001b[0mpath_or_buf\u001b[0m\u001b[0;34m,\u001b[0m\u001b[0;34m\u001b[0m\u001b[0;34m\u001b[0m\u001b[0m\n\u001b[1;32m   2436\u001b[0m             \u001b[0mkey\u001b[0m\u001b[0;34m,\u001b[0m\u001b[0;34m\u001b[0m\u001b[0;34m\u001b[0m\u001b[0m\n",
      "\u001b[0;32m/usr/local/lib/python3.9/site-packages/pandas/io/pytables.py\u001b[0m in \u001b[0;36mto_hdf\u001b[0;34m(path_or_buf, key, value, mode, complevel, complib, append, format, index, min_itemsize, nan_rep, dropna, data_columns, errors, encoding)\u001b[0m\n\u001b[1;32m    265\u001b[0m     \u001b[0mpath_or_buf\u001b[0m \u001b[0;34m=\u001b[0m \u001b[0mstringify_path\u001b[0m\u001b[0;34m(\u001b[0m\u001b[0mpath_or_buf\u001b[0m\u001b[0;34m)\u001b[0m\u001b[0;34m\u001b[0m\u001b[0;34m\u001b[0m\u001b[0m\n\u001b[1;32m    266\u001b[0m     \u001b[0;32mif\u001b[0m \u001b[0misinstance\u001b[0m\u001b[0;34m(\u001b[0m\u001b[0mpath_or_buf\u001b[0m\u001b[0;34m,\u001b[0m \u001b[0mstr\u001b[0m\u001b[0;34m)\u001b[0m\u001b[0;34m:\u001b[0m\u001b[0;34m\u001b[0m\u001b[0;34m\u001b[0m\u001b[0m\n\u001b[0;32m--> 267\u001b[0;31m         with HDFStore(\n\u001b[0m\u001b[1;32m    268\u001b[0m             \u001b[0mpath_or_buf\u001b[0m\u001b[0;34m,\u001b[0m \u001b[0mmode\u001b[0m\u001b[0;34m=\u001b[0m\u001b[0mmode\u001b[0m\u001b[0;34m,\u001b[0m \u001b[0mcomplevel\u001b[0m\u001b[0;34m=\u001b[0m\u001b[0mcomplevel\u001b[0m\u001b[0;34m,\u001b[0m \u001b[0mcomplib\u001b[0m\u001b[0;34m=\u001b[0m\u001b[0mcomplib\u001b[0m\u001b[0;34m\u001b[0m\u001b[0;34m\u001b[0m\u001b[0m\n\u001b[1;32m    269\u001b[0m         ) as store:\n",
      "\u001b[0;32m/usr/local/lib/python3.9/site-packages/pandas/io/pytables.py\u001b[0m in \u001b[0;36m__init__\u001b[0;34m(self, path, mode, complevel, complib, fletcher32, **kwargs)\u001b[0m\n\u001b[1;32m    532\u001b[0m             \u001b[0;32mraise\u001b[0m \u001b[0mValueError\u001b[0m\u001b[0;34m(\u001b[0m\u001b[0;34m\"format is not a defined argument for HDFStore\"\u001b[0m\u001b[0;34m)\u001b[0m\u001b[0;34m\u001b[0m\u001b[0;34m\u001b[0m\u001b[0m\n\u001b[1;32m    533\u001b[0m \u001b[0;34m\u001b[0m\u001b[0m\n\u001b[0;32m--> 534\u001b[0;31m         \u001b[0mtables\u001b[0m \u001b[0;34m=\u001b[0m \u001b[0mimport_optional_dependency\u001b[0m\u001b[0;34m(\u001b[0m\u001b[0;34m\"tables\"\u001b[0m\u001b[0;34m)\u001b[0m\u001b[0;34m\u001b[0m\u001b[0;34m\u001b[0m\u001b[0m\n\u001b[0m\u001b[1;32m    535\u001b[0m \u001b[0;34m\u001b[0m\u001b[0m\n\u001b[1;32m    536\u001b[0m         \u001b[0;32mif\u001b[0m \u001b[0mcomplib\u001b[0m \u001b[0;32mis\u001b[0m \u001b[0;32mnot\u001b[0m \u001b[0;32mNone\u001b[0m \u001b[0;32mand\u001b[0m \u001b[0mcomplib\u001b[0m \u001b[0;32mnot\u001b[0m \u001b[0;32min\u001b[0m \u001b[0mtables\u001b[0m\u001b[0;34m.\u001b[0m\u001b[0mfilters\u001b[0m\u001b[0;34m.\u001b[0m\u001b[0mall_complibs\u001b[0m\u001b[0;34m:\u001b[0m\u001b[0;34m\u001b[0m\u001b[0;34m\u001b[0m\u001b[0m\n",
      "\u001b[0;32m/usr/local/lib/python3.9/site-packages/pandas/compat/_optional.py\u001b[0m in \u001b[0;36mimport_optional_dependency\u001b[0;34m(name, extra, raise_on_missing, on_version)\u001b[0m\n\u001b[1;32m    108\u001b[0m     \u001b[0;32mexcept\u001b[0m \u001b[0mImportError\u001b[0m\u001b[0;34m:\u001b[0m\u001b[0;34m\u001b[0m\u001b[0;34m\u001b[0m\u001b[0m\n\u001b[1;32m    109\u001b[0m         \u001b[0;32mif\u001b[0m \u001b[0mraise_on_missing\u001b[0m\u001b[0;34m:\u001b[0m\u001b[0;34m\u001b[0m\u001b[0;34m\u001b[0m\u001b[0m\n\u001b[0;32m--> 110\u001b[0;31m             \u001b[0;32mraise\u001b[0m \u001b[0mImportError\u001b[0m\u001b[0;34m(\u001b[0m\u001b[0mmsg\u001b[0m\u001b[0;34m)\u001b[0m \u001b[0;32mfrom\u001b[0m \u001b[0;32mNone\u001b[0m\u001b[0;34m\u001b[0m\u001b[0;34m\u001b[0m\u001b[0m\n\u001b[0m\u001b[1;32m    111\u001b[0m         \u001b[0;32melse\u001b[0m\u001b[0;34m:\u001b[0m\u001b[0;34m\u001b[0m\u001b[0;34m\u001b[0m\u001b[0m\n\u001b[1;32m    112\u001b[0m             \u001b[0;32mreturn\u001b[0m \u001b[0;32mNone\u001b[0m\u001b[0;34m\u001b[0m\u001b[0;34m\u001b[0m\u001b[0m\n",
      "\u001b[0;31mImportError\u001b[0m: Missing optional dependency 'tables'.  Use pip or conda to install tables."
     ]
    }
   ],
   "source": [
    "features = list(train_df.columns.difference(['Drug','Disease','Class']))\n",
    "X = train_df[features]\n",
    "y = train_df['Class']\n",
    "\n",
    "import h5py  \n",
    "Xh5File = \"Xfromdf.h5\"\n",
    "yH5file = \"Yfromdf.h5\"\n",
    "X.to_hdf(Xh5File, \"X\")\n",
    "y.to_hdf(yh5File, \"y\")\n",
    "\n",
    "\n",
    "X.head()\n",
    "y.head()"
   ]
  },
  {
   "cell_type": "code",
   "execution_count": 45,
   "metadata": {},
   "outputs": [
    {
     "data": {
      "text/plain": [
       "['Feature_GO-SIM_HPO-SIM',\n",
       " 'Feature_GO-SIM_PHENO-SIM',\n",
       " 'Feature_PPI-SIM_HPO-SIM',\n",
       " 'Feature_PPI-SIM_PHENO-SIM',\n",
       " 'Feature_SE-SIM_HPO-SIM',\n",
       " 'Feature_SE-SIM_PHENO-SIM',\n",
       " 'Feature_TARGETSEQ-SIM_HPO-SIM',\n",
       " 'Feature_TARGETSEQ-SIM_PHENO-SIM',\n",
       " 'Feature_TC_HPO-SIM',\n",
       " 'Feature_TC_PHENO-SIM']"
      ]
     },
     "execution_count": 45,
     "metadata": {},
     "output_type": "execute_result"
    }
   ],
   "source": [
    "#features = list(train_df.columns.difference(['Drug','Disease','Class','0_HPO-SIM','0_PHENO-SIM']))\n",
    "features= ['Feature_GO-SIM_HPO-SIM',\n",
    " 'Feature_GO-SIM_PHENO-SIM',\n",
    " 'Feature_PPI-SIM_HPO-SIM',\n",
    " 'Feature_PPI-SIM_PHENO-SIM',\n",
    " 'Feature_SE-SIM_HPO-SIM',\n",
    " 'Feature_SE-SIM_PHENO-SIM',\n",
    " 'Feature_TARGETSEQ-SIM_HPO-SIM',\n",
    " 'Feature_TARGETSEQ-SIM_PHENO-SIM',\n",
    " 'Feature_TC_HPO-SIM',\n",
    " 'Feature_TC_PHENO-SIM']\n",
    "\n",
    "\n",
    "X = train_df[features]\n",
    "y = train_df['Class']\n",
    "\n",
    "X.to_csv(\"Xdata.csv\")\n",
    "y.to_csv(\"ydata.csv\")\n",
    "features"
   ]
  },
  {
   "cell_type": "code",
   "execution_count": 39,
   "metadata": {},
   "outputs": [
    {
     "data": {
      "text/plain": [
       "['Feature_GO-SIM_HPO-SIM',\n",
       " 'Feature_GO-SIM_PHENO-SIM',\n",
       " 'Feature_PPI-SIM_HPO-SIM',\n",
       " 'Feature_PPI-SIM_PHENO-SIM',\n",
       " 'Feature_SE-SIM_HPO-SIM',\n",
       " 'Feature_SE-SIM_PHENO-SIM',\n",
       " 'Feature_TARGETSEQ-SIM_HPO-SIM',\n",
       " 'Feature_TARGETSEQ-SIM_PHENO-SIM',\n",
       " 'Feature_TC_HPO-SIM',\n",
       " 'Feature_TC_PHENO-SIM']"
      ]
     },
     "execution_count": 39,
     "metadata": {},
     "output_type": "execute_result"
    }
   ],
   "source": [
    "\n",
    "features"
   ]
  },
  {
   "cell_type": "code",
   "execution_count": 46,
   "metadata": {},
   "outputs": [
    {
     "data": {
      "text/plain": [
       "Feature_GO-SIM_HPO-SIM             0\n",
       "Feature_GO-SIM_PHENO-SIM           0\n",
       "Feature_PPI-SIM_HPO-SIM            0\n",
       "Feature_PPI-SIM_PHENO-SIM          0\n",
       "Feature_SE-SIM_HPO-SIM             0\n",
       "Feature_SE-SIM_PHENO-SIM           0\n",
       "Feature_TARGETSEQ-SIM_HPO-SIM      0\n",
       "Feature_TARGETSEQ-SIM_PHENO-SIM    0\n",
       "Feature_TC_HPO-SIM                 0\n",
       "Feature_TC_PHENO-SIM               0\n",
       "dtype: int64"
      ]
     },
     "execution_count": 46,
     "metadata": {},
     "output_type": "execute_result"
    }
   ],
   "source": [
    "X.isnull().values.any()\n",
    "X.isnull().sum()\n",
    "\n"
   ]
  },
  {
   "cell_type": "code",
   "execution_count": 30,
   "metadata": {},
   "outputs": [
    {
     "data": {
      "text/plain": [
       "0"
      ]
     },
     "execution_count": 30,
     "metadata": {},
     "output_type": "execute_result"
    }
   ],
   "source": [
    "y.isnull().sum()"
   ]
  },
  {
   "cell_type": "code",
   "execution_count": 49,
   "metadata": {},
   "outputs": [
    {
     "name": "stdout",
     "output_type": "stream",
     "text": [
      "fiting classifier...\n"
     ]
    }
   ],
   "source": [
    "n_seed = 100\n",
    "clf = linear_model.LogisticRegression(penalty='l2', dual=False, tol=0.0001, C=1.0, random_state=n_seed) \n",
    "clfx = trainModel(train_df, clf)"
   ]
  },
  {
   "cell_type": "markdown",
   "metadata": {},
   "source": [
    "# Evaulation "
   ]
  },
  {
   "cell_type": "code",
   "execution_count": 57,
   "metadata": {},
   "outputs": [],
   "source": [
    "from sklearn import metrics\n",
    "import numbers\n",
    "def multimetric_score(estimator, X_test, y_test, scorers):\n",
    "    \"\"\"Return a dict of score for multimetric scoring\"\"\"\n",
    "    scores = {}\n",
    "    for name, scorer in scorers.items():\n",
    "        if y_test is None:\n",
    "            score = scorer(estimator, X_test)\n",
    "        else:\n",
    "            score = scorer(estimator, X_test, y_test)\n",
    "\n",
    "        if hasattr(score, 'item'):\n",
    "            try:\n",
    "                # e.g. unwrap memmapped scalars\n",
    "                score = score.item()\n",
    "            except ValueError:\n",
    "                # non-scalar?\n",
    "                pass\n",
    "        scores[name] = score\n",
    "\n",
    "        if not isinstance(score, numbers.Number):\n",
    "            raise ValueError(\"scoring must return a number, got %s (%s) \"\n",
    "                             \"instead. (scorer=%s)\"\n",
    "                             % (str(score), type(score), name))\n",
    "    return scores\n",
    "\n",
    "def evaluate(test_df, clf):\n",
    "    features = list(train_df.columns.difference(['Drug','Disease','Class']))\n",
    "    X_test =  test_df[features]\n",
    "    y_test = test_df['Class']\n",
    "\n",
    "    scoring = ['precision', 'recall', 'accuracy', 'roc_auc', 'f1', 'average_precision']\n",
    "    scorers, multimetric = metrics.scorer._check_multimetric_scoring(clf, scoring=scoring)\n",
    "    scores = multimetric_score(clf, X_test, y_test, scorers)\n",
    "    return scores"
   ]
  },
  {
   "cell_type": "code",
   "execution_count": 58,
   "metadata": {},
   "outputs": [
    {
     "ename": "AttributeError",
     "evalue": "module 'sklearn.metrics' has no attribute 'scorer'",
     "output_type": "error",
     "traceback": [
      "\u001b[0;31m---------------------------------------------------------------------------\u001b[0m",
      "\u001b[0;31mAttributeError\u001b[0m                            Traceback (most recent call last)",
      "\u001b[0;32m<ipython-input-58-141e7427d46d>\u001b[0m in \u001b[0;36m<module>\u001b[0;34m\u001b[0m\n\u001b[0;32m----> 1\u001b[0;31m \u001b[0mscores\u001b[0m \u001b[0;34m=\u001b[0m \u001b[0mevaluate\u001b[0m\u001b[0;34m(\u001b[0m\u001b[0mtest_df\u001b[0m\u001b[0;34m,\u001b[0m \u001b[0mclf\u001b[0m\u001b[0;34m)\u001b[0m\u001b[0;34m\u001b[0m\u001b[0;34m\u001b[0m\u001b[0m\n\u001b[0m\u001b[1;32m      2\u001b[0m \u001b[0mprint\u001b[0m \u001b[0;34m(\u001b[0m\u001b[0;34m\"Test:\"\u001b[0m\u001b[0;34m,\u001b[0m\u001b[0mscores\u001b[0m\u001b[0;34m)\u001b[0m\u001b[0;34m\u001b[0m\u001b[0;34m\u001b[0m\u001b[0m\n",
      "\u001b[0;32m<ipython-input-57-68d9e41c6bf7>\u001b[0m in \u001b[0;36mevaluate\u001b[0;34m(test_df, clf)\u001b[0m\n\u001b[1;32m     31\u001b[0m \u001b[0;34m\u001b[0m\u001b[0m\n\u001b[1;32m     32\u001b[0m     \u001b[0mscoring\u001b[0m \u001b[0;34m=\u001b[0m \u001b[0;34m[\u001b[0m\u001b[0;34m'precision'\u001b[0m\u001b[0;34m,\u001b[0m \u001b[0;34m'recall'\u001b[0m\u001b[0;34m,\u001b[0m \u001b[0;34m'accuracy'\u001b[0m\u001b[0;34m,\u001b[0m \u001b[0;34m'roc_auc'\u001b[0m\u001b[0;34m,\u001b[0m \u001b[0;34m'f1'\u001b[0m\u001b[0;34m,\u001b[0m \u001b[0;34m'average_precision'\u001b[0m\u001b[0;34m]\u001b[0m\u001b[0;34m\u001b[0m\u001b[0;34m\u001b[0m\u001b[0m\n\u001b[0;32m---> 33\u001b[0;31m     \u001b[0mscorers\u001b[0m\u001b[0;34m,\u001b[0m \u001b[0mmultimetric\u001b[0m \u001b[0;34m=\u001b[0m \u001b[0mmetrics\u001b[0m\u001b[0;34m.\u001b[0m\u001b[0mscorer\u001b[0m\u001b[0;34m.\u001b[0m\u001b[0m_check_multimetric_scoring\u001b[0m\u001b[0;34m(\u001b[0m\u001b[0mclf\u001b[0m\u001b[0;34m,\u001b[0m \u001b[0mscoring\u001b[0m\u001b[0;34m=\u001b[0m\u001b[0mscoring\u001b[0m\u001b[0;34m)\u001b[0m\u001b[0;34m\u001b[0m\u001b[0;34m\u001b[0m\u001b[0m\n\u001b[0m\u001b[1;32m     34\u001b[0m     \u001b[0mscores\u001b[0m \u001b[0;34m=\u001b[0m \u001b[0mmultimetric_score\u001b[0m\u001b[0;34m(\u001b[0m\u001b[0mclf\u001b[0m\u001b[0;34m,\u001b[0m \u001b[0mX_test\u001b[0m\u001b[0;34m,\u001b[0m \u001b[0my_test\u001b[0m\u001b[0;34m,\u001b[0m \u001b[0mscorers\u001b[0m\u001b[0;34m)\u001b[0m\u001b[0;34m\u001b[0m\u001b[0;34m\u001b[0m\u001b[0m\n\u001b[1;32m     35\u001b[0m     \u001b[0;32mreturn\u001b[0m \u001b[0mscores\u001b[0m\u001b[0;34m\u001b[0m\u001b[0;34m\u001b[0m\u001b[0m\n",
      "\u001b[0;31mAttributeError\u001b[0m: module 'sklearn.metrics' has no attribute 'scorer'"
     ]
    }
   ],
   "source": [
    "scores = evaluate(test_df, clf)\n",
    "print (\"Test:\",scores)"
   ]
  },
  {
   "cell_type": "markdown",
   "metadata": {},
   "source": [
    "# 10-fold drug-disjoint cross-validation (PREDICT - CV scheme )"
   ]
  },
  {
   "cell_type": "code",
   "execution_count": null,
   "metadata": {},
   "outputs": [],
   "source": [
    "disjoint = True\n",
    "n_fold = 10\n",
    "\n",
    "if disjoint:\n",
    "    print ('Disjoint')\n",
    "    groups = pairs[:,0] # group by drug\n",
    "    group_kfold = GroupKFold(n_splits=n_fold)\n",
    "    cv = group_kfold.split(pairs, classes, groups)\n",
    "else:\n",
    "    print ('Non-disjoint')\n",
    "    skf = StratifiedKFold(n_splits=n_fold, shuffle=True, random_state=n_seed)\n",
    "    cv = skf.split(pairs, classes)\n",
    "\n",
    "n_seed = 100\n",
    "cv_results = pd.DataFrame()\n",
    "clf = linear_model.LogisticRegression(penalty='l2', solver='lbfgs', dual=False, tol=0.0001, C=1.0, random_state=n_seed) \n",
    "  \n",
    "for i, (train, test) in enumerate(cv):\n",
    "    print ('Fold',i+1)\n",
    "    start_time = time.time()\n",
    "    pairs_train = pairs[train]\n",
    "    classes_train = classes[train] \n",
    "    pairs_test = pairs[test]\n",
    "    classes_test = classes[test]\n",
    "    knownDrugDisease= pairs_train[classes_train==1]\n",
    "    \n",
    "    train_df, test_df = calculateCombinedSimilarity(pairs_train, pairs_test, classes_train, classes_test, drug_df, disease_df, knownDrugDisease)\n",
    "    elapsed_time = time.time() - start_time\n",
    "    print ('Time elapsed to generate features:',time.strftime(\"%H:%M:%S\", time.gmtime(elapsed_time)))\n",
    "\n",
    "    clf = trainModel(train_df, clf)\n",
    "    \n",
    "    scores = evaluate(test_df, clf)\n",
    "    #print (\"Scores:\",scores)\n",
    "    cv_results = cv_results.append(scores, ignore_index=True)"
   ]
  },
  {
   "cell_type": "code",
   "execution_count": null,
   "metadata": {},
   "outputs": [],
   "source": [
    "cv_results.mean()"
   ]
  },
  {
   "cell_type": "code",
   "execution_count": null,
   "metadata": {},
   "outputs": [],
   "source": [
    "os.mkdir('results')\n",
    "cv_results.to_csv('results/disjoint_lr.csv')"
   ]
  },
  {
   "cell_type": "code",
   "execution_count": null,
   "metadata": {},
   "outputs": [],
   "source": [
    "#import pandas as pd\n",
    "#cv_results = pd.read_csv('results/disjoint_lr.csv')"
   ]
  },
  {
   "cell_type": "code",
   "execution_count": null,
   "metadata": {},
   "outputs": [],
   "source": [
    "cv_results.head()"
   ]
  },
  {
   "cell_type": "code",
   "execution_count": null,
   "metadata": {},
   "outputs": [],
   "source": [
    "import time\n",
    "def generateURI(prefix):\n",
    "    uniqueID= int(round(time.time() * 1000))\n",
    "    uri = URIRef(prefix+str(uniqueID))\n",
    "    return uri"
   ]
  },
  {
   "cell_type": "code",
   "execution_count": null,
   "metadata": {},
   "outputs": [],
   "source": [
    "DC = Namespace(\"http://purl.org/dc/terms/\")\n",
    "MLS = Namespace(\"http://www.w3.org/ns/mls#\")\n",
    "RPC = Namespace(\"https://w3id.org/reproduceme#\")\n",
    "RDFS = Namespace(\"http://www.w3.org/2000/01/rdf-schema#\")\n",
    "\n",
    "g =  ConjunctiveGraph(identifier = URIRef('http://bio2rdf.org/openpredict_resource:bio2rdf.dataset.openpredict.R1')) \n",
    "\n",
    "#graphURI = URIRef('http://bio2rdf.org/openpredict_resource:bio2rdf.output.openpredict.R1')\n",
    "runURI = generateURI('http://www.w3.org/ns/mls#Run')\n",
    "evalURI = generateURI('http://www.w3.org/ns/mls#ModelEvaluation')\n",
    "evalSpecURI = generateURI('http://www.w3.org/ns/mls#EvaluationSpecification')\n",
    "\n",
    "g.add((runURI, RDF['type'], MLS['Run']))\n",
    "g.add((runURI, MLS['achieves'], RPC['Pipeline_OpenPREDICT']))\n",
    "\n",
    "g.add((runURI, MLS['hasOutput'], evalURI))\n",
    "g.add((evalURI, RDF['type'], MLS['ModelEvaluation']))\n",
    "\n",
    "g.add((evalSpecURI, MLS['defines'],  RPC['Pipeline_OpenPREDICT']))\n",
    "g.add((evalSpecURI, MLS['hasPart'],  MLS['TenFoldCrossValidation']))\n",
    "g.add((MLS['TenFoldCrossValidation'], RDF['type'],  MLS['EvaluationProcedure']))\n",
    "g.add((MLS['TenFoldCrossValidation'], RDFS['label'],  Literal('10-fold CV')))\n",
    "\n",
    "g.add((evalSpecURI, MLS['hasPart'],  MLS['DrugwiseCrossValidation']))\n",
    "g.add((MLS['DrugwiseCrossValidation'], RDF['type'],  MLS['EvaluationProcedure']))\n",
    "g.add((MLS['DrugwiseCrossValidation'], RDFS['label'],  Literal('Drugwise CrossValidation')))\n",
    "g.add((MLS['DrugwiseCrossValidation'], DC['description'],  Literal('Split drugs in 10-fold, remove drugs of each fold in the gold standard and consequently remove all the known indication sassociated with them')))\n",
    "\n",
    "for index, value in cv_results.mean().items():\n",
    "    measureURI = generateURI('http://www.w3.org/ns/mls#Measure_'+index)\n",
    "    g.add((evalSpecURI, MLS['hasPart'],  measureURI))      \n",
    "    g.add((evalURI, MLS['specifiedBy'],measureURI ))\n",
    "    g.add((measureURI, RDF['type'], MLS['EvaluationMeasure']))\n",
    "    g.add((measureURI, RDFS['label'],  Literal(index)))\n",
    "    g.add((measureURI, MLS['hasValue'],  Literal(value)))\n",
    "\n"
   ]
  },
  {
   "cell_type": "code",
   "execution_count": null,
   "metadata": {},
   "outputs": [],
   "source": [
    "outfile ='results/results_disjoint_lr.nq'\n",
    "g.serialize(outfile, format='nquads')\n",
    "print('RDF is generated at '+outfile)"
   ]
  },
  {
   "cell_type": "code",
   "execution_count": null,
   "metadata": {},
   "outputs": [],
   "source": [
    "#import shutil\n",
    "#import os\n",
    "#shutil.copytree('results',os.path.join(abs_path, 'data/results/'))"
   ]
  }
 ],
 "metadata": {
  "kernelspec": {
   "display_name": "Python 3",
   "language": "python",
   "name": "python3"
  },
  "language_info": {
   "codemirror_mode": {
    "name": "ipython",
    "version": 3
   },
   "file_extension": ".py",
   "mimetype": "text/x-python",
   "name": "python",
   "nbconvert_exporter": "python",
   "pygments_lexer": "ipython3",
   "version": "3.9.2"
  }
 },
 "nbformat": 4,
 "nbformat_minor": 2
}
